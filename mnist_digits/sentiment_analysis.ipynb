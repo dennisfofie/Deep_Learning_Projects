{
 "cells": [
  {
   "cell_type": "code",
   "execution_count": 2,
   "metadata": {},
   "outputs": [
    {
     "name": "stdout",
     "output_type": "stream",
     "text": [
      "2.15.0\n"
     ]
    }
   ],
   "source": [
    "# sentiment analysis using the imdb reviews\n",
    "import tensorflow as tf\n",
    "from tensorflow import keras\n",
    "from tensorflow.keras import datasets, layers, models, preprocessing\n",
    "print(tf.__version__)"
   ]
  },
  {
   "cell_type": "code",
   "execution_count": 3,
   "metadata": {},
   "outputs": [],
   "source": [
    "max_len = 200\n",
    "n_words = 10000\n",
    "dim_embedding = 256\n",
    "epochs = 20\n",
    "batch_size = 500\n",
    "\n",
    "def load_data():\n",
    "    imdb = datasets.imdb\n",
    "\n",
    "    # load the data\n",
    "    (x_train, y_train), (x_test, y_test) = imdb.load_data(num_words=n_words)\n",
    "\n",
    "    # pad sequence with max_len\n",
    "    x_train = preprocessing.sequence.pad_sequences(x_train, maxlen=max_len)\n",
    "    x_test = preprocessing.sequence.pad_sequences(x_test, maxlen=max_len)\n",
    "\n",
    "    return (x_train, y_train), (x_test, y_test)"
   ]
  },
  {
   "cell_type": "code",
   "execution_count": 8,
   "metadata": {},
   "outputs": [
    {
     "name": "stdout",
     "output_type": "stream",
     "text": [
      "(25000, 200)\n"
     ]
    }
   ],
   "source": [
    "(x_train, y_train), (x_test, y_test) = load_data()"
   ]
  },
  {
   "cell_type": "code",
   "execution_count": 17,
   "metadata": {},
   "outputs": [],
   "source": [
    "# build the model\n",
    "def build_model():\n",
    "    model = models.Sequential()\n",
    "\n",
    "    model.add(layers.Embedding(n_words, dim_embedding, input_length=max_len))\n",
    "\n",
    "    model.add(layers.Dropout(0.3))\n",
    "    model.add(layers.GlobalMaxPooling1D())\n",
    "    model.add(layers.Dense(128, activation=\"relu\"))\n",
    "    model.add(layers.Dropout(0.5))\n",
    "    model.add(layers.Dense(1, activation=keras.activations.sigmoid))\n",
    "    \n",
    "    return model"
   ]
  },
  {
   "cell_type": "code",
   "execution_count": 20,
   "metadata": {},
   "outputs": [
    {
     "name": "stdout",
     "output_type": "stream",
     "text": [
      "Model: \"sequential_5\"\n",
      "_________________________________________________________________\n",
      " Layer (type)                Output Shape              Param #   \n",
      "=================================================================\n",
      " embedding_5 (Embedding)     (None, 200, 256)          2560000   \n",
      "                                                                 \n",
      " dropout_10 (Dropout)        (None, 200, 256)          0         \n",
      "                                                                 \n",
      " global_max_pooling1d_5 (Gl  (None, 256)               0         \n",
      " obalMaxPooling1D)                                               \n",
      "                                                                 \n",
      " dense_7 (Dense)             (None, 128)               32896     \n",
      "                                                                 \n",
      " dropout_11 (Dropout)        (None, 128)               0         \n",
      "                                                                 \n",
      " dense_8 (Dense)             (None, 1)                 129       \n",
      "                                                                 \n",
      "=================================================================\n",
      "Total params: 2593025 (9.89 MB)\n",
      "Trainable params: 2593025 (9.89 MB)\n",
      "Non-trainable params: 0 (0.00 Byte)\n",
      "_________________________________________________________________\n",
      "Epoch 1/8\n",
      "35/35 [==============================] - 17s 461ms/step - loss: 0.6826 - accuracy: 0.5835 - val_loss: 0.6655 - val_accuracy: 0.7763\n",
      "Epoch 2/8\n",
      "35/35 [==============================] - 16s 452ms/step - loss: 0.5756 - accuracy: 0.8023 - val_loss: 0.4840 - val_accuracy: 0.8565\n",
      "Epoch 3/8\n",
      "35/35 [==============================] - 16s 455ms/step - loss: 0.3494 - accuracy: 0.8693 - val_loss: 0.3283 - val_accuracy: 0.8736\n",
      "Epoch 4/8\n",
      "35/35 [==============================] - 16s 454ms/step - loss: 0.2500 - accuracy: 0.9009 - val_loss: 0.2951 - val_accuracy: 0.8809\n",
      "Epoch 5/8\n",
      "35/35 [==============================] - 16s 450ms/step - loss: 0.1928 - accuracy: 0.9285 - val_loss: 0.2768 - val_accuracy: 0.8860\n",
      "Epoch 6/8\n",
      "35/35 [==============================] - 16s 456ms/step - loss: 0.1497 - accuracy: 0.9495 - val_loss: 0.2735 - val_accuracy: 0.8856\n",
      "Epoch 7/8\n",
      "35/35 [==============================] - 16s 454ms/step - loss: 0.1143 - accuracy: 0.9655 - val_loss: 0.2732 - val_accuracy: 0.8835\n",
      "Epoch 8/8\n",
      "35/35 [==============================] - 16s 468ms/step - loss: 0.0843 - accuracy: 0.9764 - val_loss: 0.2793 - val_accuracy: 0.8796\n",
      "782/782 [==============================] - 5s 6ms/step - loss: 0.3056 - accuracy: 0.8696\n",
      "accuracy: 0.8696399927139282\n"
     ]
    }
   ],
   "source": [
    "(x_train, y_train), (x_test, y_test) = load_data()\n",
    "model = build_model()\n",
    "\n",
    "model.summary()\n",
    "\n",
    "model.compile(optimizer='adam', loss='binary_crossentropy', metrics=['accuracy'])\n",
    "\n",
    "model.fit(x_train, y_train, epochs=8, batch_size=batch_size, validation_split=0.3)\n",
    "\n",
    "score = model.evaluate(x_test, y_test)\n",
    "\n",
    "print(\"accuracy: {}\".format(score[1]))"
   ]
  },
  {
   "cell_type": "code",
   "execution_count": null,
   "metadata": {},
   "outputs": [],
   "source": [
    ")"
   ]
  }
 ],
 "metadata": {
  "kernelspec": {
   "display_name": "Python 3",
   "language": "python",
   "name": "python3"
  },
  "language_info": {
   "codemirror_mode": {
    "name": "ipython",
    "version": 3
   },
   "file_extension": ".py",
   "mimetype": "text/x-python",
   "name": "python",
   "nbconvert_exporter": "python",
   "pygments_lexer": "ipython3",
   "version": "3.10.12"
  }
 },
 "nbformat": 4,
 "nbformat_minor": 2
}
