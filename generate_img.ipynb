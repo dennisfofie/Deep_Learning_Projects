{
 "cells": [
  {
   "cell_type": "code",
   "execution_count": 11,
   "metadata": {},
   "outputs": [
    {
     "data": {
      "image/png": "[encoded data removed]",
      "text/plain": [
       "<Figure size 640x480 with 1 Axes>"
      ]
     },
     "metadata": {},
     "output_type": "display_data"
    }
   ],
   "source": [
    "import tensorflow_datasets as tfds\n",
    "from tensorflow.keras import datasets\n",
    "import matplotlib.pyplot as plt\n",
    "import tensorflow as tf\n",
    "import numpy as np\n",
    "\n",
    "\n",
    "\n",
    "\n",
    "# #load the data from tensorflow datasets\n",
    "# ds_train, ds_info = tfds.load(\n",
    "#     'celeb_a', split='test', shuffle_files=False,\n",
    "#     with_info = True, download=True\n",
    "# )\n",
    "\n",
    "# #convert it into pandas dataframe\n",
    "# ds_train_df = tfds.as_dataframe(ds_train, ds_info)\n",
    "\n",
    "# fig, ax = plt.subplot(3,3, figsize=(10,10))\n",
    "\n",
    "# for i, a in enumerate(ax.flat):\n",
    "#     image = ds_train_df['image'][i]\n",
    "#     a.imshow(image.numpy().astype(np.uint8))\n",
    "#     a.axis('off')\n",
    "\n",
    "# plt.show()\n",
    "\n",
    "(x_train, y_train), (x_test, y_test) = datasets.mnist.load_data()\n",
    "\n",
    "#fig, axes = plt.subplot(figsize=(10,10))\n",
    "\n",
    "for index in range(10):\n",
    "    image = x_train[index]\n",
    "    plt.imshow(image, cmap='gray')\n",
    "    plt.axis('off')\n",
    "\n",
    "\n",
    "plt.show()\n"
   ]
  },
  {
   "cell_type": "code",
   "execution_count": 12,
   "metadata": {},
   "outputs": [],
   "source": [
    "#converting the images to binaries\n",
    "\n",
    "def binarize(image, label):\n",
    "    image = tf.cast(image, tf.float32)  #cast the image to float32\n",
    "    image = tf.math.round(image / 255)\n",
    "    return image, tf.cast(image, tf.int32)\n"
   ]
  },
  {
   "cell_type": "code",
   "execution_count": null,
   "metadata": {},
   "outputs": [],
   "source": [
    "#creating custom layer using keras layers\n",
    "\n",
    "class MaskedConv2D(tf.keras.layers.Layer):\n",
    "    def __init__(self):\n",
    "        super().__init__(self)\n",
    "\n",
    "    def build(self, input_shape):\n",
    "        self.w = self.add_weight(shape=[self.kernel, self.kernel, input_shape[-1], self.filters],\n",
    "                    initializer='glorot_normal', trainable=True)\n",
    "        \n",
    "        self.b = self.add_weight(shape=(self.filters,),\n",
    "                                 initializer='zeros',\n",
    "                                 trainable=True)\n",
    "        \n",
    "        mask = np.ones(self.kernel ** 2, dtype=np.float32)\n",
    "        center = len(mask) / 2\n",
    "\n",
    "        mask[center+1:] = 0\n",
    "\n",
    "        if self.mask_type == 'A':\n",
    "            mask[center] = 0\n",
    "\n",
    "        mask = mask.reshape((self.kernel, self.kernel, 1,1))\n",
    "        self.mask = tf.constant(mask, dtype='float32')\n",
    "\n",
    "    \n",
    "    def call(self, inputs):\n",
    "        masked_w = tf.math.multiply(self.w, self.mask)\n",
    "        output = tf.nn.conv2d(inputs, masked_w, 1, 'SAME') + self.b\n",
    "\n",
    "        return output"
   ]
  }
 ],
 "metadata": {
  "kernelspec": {
   "display_name": "Python 3",
   "language": "python",
   "name": "python3"
  },
  "language_info": {
   "codemirror_mode": {
    "name": "ipython",
    "version": 3
   },
   "file_extension": ".py",
   "mimetype": "text/x-python",
   "name": "python",
   "nbconvert_exporter": "python",
   "pygments_lexer": "ipython3",
   "version": "3.10.12"
  }
 },
 "nbformat": 4,
 "nbformat_minor": 2
}
