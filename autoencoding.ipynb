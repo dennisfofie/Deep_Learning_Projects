{
 "cells": [
  {
   "cell_type": "code",
   "execution_count": 1,
   "metadata": {},
   "outputs": [
    {
     "name": "stderr",
     "output_type": "stream",
     "text": [
      "2024-03-31 12:15:01.336282: I external/local_tsl/tsl/cuda/cudart_stub.cc:31] Could not find cuda drivers on your machine, GPU will not be used.\n",
      "2024-03-31 12:15:01.460746: E external/local_xla/xla/stream_executor/cuda/cuda_dnn.cc:9261] Unable to register cuDNN factory: Attempting to register factory for plugin cuDNN when one has already been registered\n",
      "2024-03-31 12:15:01.460869: E external/local_xla/xla/stream_executor/cuda/cuda_fft.cc:607] Unable to register cuFFT factory: Attempting to register factory for plugin cuFFT when one has already been registered\n",
      "2024-03-31 12:15:01.464420: E external/local_xla/xla/stream_executor/cuda/cuda_blas.cc:1515] Unable to register cuBLAS factory: Attempting to register factory for plugin cuBLAS when one has already been registered\n",
      "2024-03-31 12:15:01.482491: I external/local_tsl/tsl/cuda/cudart_stub.cc:31] Could not find cuda drivers on your machine, GPU will not be used.\n",
      "2024-03-31 12:15:01.484515: I tensorflow/core/platform/cpu_feature_guard.cc:182] This TensorFlow binary is optimized to use available CPU instructions in performance-critical operations.\n",
      "To enable the following instructions: AVX2 FMA, in other operations, rebuild TensorFlow with the appropriate compiler flags.\n",
      "2024-03-31 12:15:04.537863: W tensorflow/compiler/tf2tensorrt/utils/py_utils.cc:38] TF-TRT Warning: Could not find TensorRT\n"
     ]
    },
    {
     "name": "stdout",
     "output_type": "stream",
     "text": [
      "2.15.0\n"
     ]
    }
   ],
   "source": [
    "#importing the libraries\n",
    "import tensorflow as tf\n",
    "from tensorflow import keras\n",
    "import cv2\n",
    "import matplotlib.pyplot as plt\n",
    "import numpy as np\n",
    "\n",
    "\n",
    "print(tf.__version__)"
   ]
  },
  {
   "cell_type": "code",
   "execution_count": 2,
   "metadata": {},
   "outputs": [
    {
     "data": {
      "image/png": "[encoded data removed]",
      "text/plain": [
       "<Figure size 640x480 with 1 Axes>"
      ]
     },
     "metadata": {},
     "output_type": "display_data"
    }
   ],
   "source": [
    "#loading the handwritten datasets\n",
    "(x_train, y_train), (x_test, y_test) = keras.datasets.mnist.load_data()\n",
    "\n",
    "#showing the first image\n",
    "plt.imshow(x_train[0], cmap='gray')\n",
    "plt.axis(\"off\")\n",
    "plt.show()"
   ]
  },
  {
   "cell_type": "code",
   "execution_count": 4,
   "metadata": {},
   "outputs": [],
   "source": [
    "#normalizing pixel value between 0 and 1\n",
    "x_train = x_train / 255.0\n",
    "x_test = x_test / 255.0\n",
    "\n"
   ]
  },
  {
   "cell_type": "code",
   "execution_count": 24,
   "metadata": {},
   "outputs": [
    {
     "name": "stderr",
     "output_type": "stream",
     "text": [
      "WARNING:absl:`lr` is deprecated in Keras optimizer, please use `learning_rate` or use the legacy optimizer, e.g.,tf.keras.optimizers.legacy.Adam.\n"
     ]
    },
    {
     "name": "stdout",
     "output_type": "stream",
     "text": [
      "Model: \"autoencoder\"\n",
      "_________________________________________________________________\n",
      " Layer (type)                Output Shape              Param #   \n",
      "=================================================================\n",
      " img (InputLayer)            [(None, 28, 28, 1)]       0         \n",
      "                                                                 \n",
      " flatten_4 (Flatten)         (None, 784)               0         \n",
      "                                                                 \n",
      " dense_20 (Dense)            (None, 128)               100480    \n",
      "                                                                 \n",
      " dense_21 (Dense)            (None, 64)                8256      \n",
      "                                                                 \n",
      " dense_22 (Dense)            (None, 32)                2080      \n",
      "                                                                 \n",
      " dense_23 (Dense)            (None, 32)                1056      \n",
      "                                                                 \n",
      " dense_24 (Dense)            (None, 64)                2112      \n",
      "                                                                 \n",
      " dense_25 (Dense)            (None, 128)               8320      \n",
      "                                                                 \n",
      " dense_26 (Dense)            (None, 784)               101136    \n",
      "                                                                 \n",
      " reshape_4 (Reshape)         (None, 28, 28, 1)         0         \n",
      "                                                                 \n",
      "=================================================================\n",
      "Total params: 223440 (872.81 KB)\n",
      "Trainable params: 223440 (872.81 KB)\n",
      "Non-trainable params: 0 (0.00 Byte)\n",
      "_________________________________________________________________\n"
     ]
    }
   ],
   "source": [
    "#encoder modelling\n",
    "\n",
    "encoder_input = keras.Input(shape=(28, 28, 1), name='img')\n",
    "x = keras.layers.Flatten()(encoder_input)\n",
    "x = keras.layers.Dense(128, activation='relu')(x)\n",
    "x = keras.layers.Dense(64, activation='relu')(x)\n",
    "encoder_output = keras.layers.Dense(32, activation='relu')(x)\n",
    "\n",
    "\n",
    "encoder = keras.Model(encoder_input, encoder_output, name='encoder')\n",
    "\n",
    "# decoder modelling\n",
    "decoder_input = keras.layers.Dense(32, activation='relu')(encoder_output)\n",
    "x = keras.layers.Dense(64, activation='relu')(decoder_input)\n",
    "x = keras.layers.Dense(128, activation='relu')(x)\n",
    "x = keras.layers.Dense(784, activation='relu')(x)\n",
    "decoder_output = keras.layers.Reshape((28,28,1))(x)\n",
    "\n",
    "\n",
    "opt = keras.optimizers.Adam(lr=0.001)\n",
    "\n",
    "autoencoder = keras.Model(encoder_input, decoder_output, name='autoencoder')\n",
    "\n",
    "autoencoder.summary()\n",
    "\n"
   ]
  },
  {
   "cell_type": "code",
   "execution_count": 34,
   "metadata": {},
   "outputs": [
    {
     "name": "stdout",
     "output_type": "stream",
     "text": [
      "Epoch 1/6\n",
      "1688/1688 [==============================] - 44s 24ms/step - loss: 0.0153 - accuracy: 0.8137 - val_loss: 0.0152 - val_accuracy: 0.8139\n",
      "Epoch 2/6\n",
      "1688/1688 [==============================] - 32s 19ms/step - loss: 0.0152 - accuracy: 0.8137 - val_loss: 0.0155 - val_accuracy: 0.8139\n",
      "Epoch 3/6\n",
      "1688/1688 [==============================] - 31s 18ms/step - loss: 0.0150 - accuracy: 0.8138 - val_loss: 0.0151 - val_accuracy: 0.8140\n",
      "Epoch 4/6\n",
      "1688/1688 [==============================] - 32s 19ms/step - loss: 0.0149 - accuracy: 0.8138 - val_loss: 0.0148 - val_accuracy: 0.8141\n",
      "Epoch 5/6\n",
      "1688/1688 [==============================] - 35s 21ms/step - loss: 0.0148 - accuracy: 0.8138 - val_loss: 0.0150 - val_accuracy: 0.8140\n",
      "Epoch 6/6\n",
      "1688/1688 [==============================] - 33s 19ms/step - loss: 0.0147 - accuracy: 0.8139 - val_loss: 0.0148 - val_accuracy: 0.8141\n"
     ]
    },
    {
     "data": {
      "text/plain": [
       "<keras.src.callbacks.History at 0x7f564521a620>"
      ]
     },
     "execution_count": 34,
     "metadata": {},
     "output_type": "execute_result"
    }
   ],
   "source": [
    "autoencoder.compile(loss='mse', optimizer=opt, metrics=['accuracy'])\n",
    "autoencoder.fit(x_train, x_train, epochs=6, batch_size=32, shuffle=True,validation_split=0.1)\n"
   ]
  },
  {
   "cell_type": "code",
   "execution_count": 43,
   "metadata": {},
   "outputs": [
    {
     "name": "stdout",
     "output_type": "stream",
     "text": [
      "1/1 [==============================] - 0s 50ms/step\n",
      "1/1 [==============================] - 0s 50ms/step\n",
      "1/1 [==============================] - 0s 63ms/step\n",
      "1/1 [==============================] - 0s 63ms/step\n",
      "1/1 [==============================] - 0s 63ms/step\n",
      "1/1 [==============================] - 0s 47ms/step\n",
      "1/1 [==============================] - 0s 45ms/step\n",
      "1/1 [==============================] - 0s 48ms/step\n",
      "1/1 [==============================] - 0s 44ms/step\n",
      "1/1 [==============================] - 0s 52ms/step\n"
     ]
    },
    {
     "data": {
      "image/png": "[encoded data removed]",
      "text/plain": [
       "<Figure size 2000x400 with 20 Axes>"
      ]
     },
     "metadata": {},
     "output_type": "display_data"
    }
   ],
   "source": [
    "plt.figure(figsize=(20,4))\n",
    "n = 10\n",
    "\n",
    "for i in range(n):\n",
    "    ax = plt.subplot(2, n, i+1)\n",
    "    plt.imshow(x_test[i])\n",
    "    plt.gray()\n",
    "    plt.axis('off')\n",
    "\n",
    "    ax = plt.subplot(2, n , i+1+n)\n",
    "    plt.imshow(autoencoder.predict([x_test[i].reshape(-1,28,28,1)])[0])\n",
    "    plt.gray()\n",
    "    plt.axis('off')\n",
    "\n",
    "plt.show()"
   ]
  },
  {
   "cell_type": "code",
   "execution_count": 45,
   "metadata": {},
   "outputs": [
    {
     "data": {
      "text/plain": [
       "(10000, 28, 28)"
      ]
     },
     "execution_count": 45,
     "metadata": {},
     "output_type": "execute_result"
    }
   ],
   "source": [
    "(x_fashion, _), (x_fashion_test, _) = keras.datasets.fashion_mnist.load_data()\n",
    "\n"
   ]
  },
  {
   "cell_type": "code",
   "execution_count": 54,
   "metadata": {},
   "outputs": [],
   "source": [
    "x_fashion_test = x_fashion_test / 255.0\n",
    "x_fashion = x_fashion / 255.0"
   ]
  },
  {
   "cell_type": "code",
   "execution_count": 55,
   "metadata": {},
   "outputs": [
    {
     "name": "stdout",
     "output_type": "stream",
     "text": [
      "Epoch 1/3\n",
      "3375/3375 [==============================] - 68s 19ms/step - loss: 0.1991 - accuracy: 0.5021 - val_loss: 0.1842 - val_accuracy: 0.4984\n",
      "Epoch 2/3\n",
      "3375/3375 [==============================] - 60s 18ms/step - loss: 0.1803 - accuracy: 0.5027 - val_loss: 0.1808 - val_accuracy: 0.4988\n",
      "Epoch 3/3\n",
      "3375/3375 [==============================] - 72s 21ms/step - loss: 0.1782 - accuracy: 0.5030 - val_loss: 0.1793 - val_accuracy: 0.4991\n"
     ]
    },
    {
     "data": {
      "text/plain": [
       "<keras.src.callbacks.History at 0x7f564feb36d0>"
      ]
     },
     "execution_count": 55,
     "metadata": {},
     "output_type": "execute_result"
    }
   ],
   "source": [
    "autoencoder.compile(loss='mse', optimizer=opt, metrics=['accuracy'])\n",
    "autoencoder.fit(x_fashion ,x_fashion, epochs=3, batch_size=16, shuffle=True,validation_split=0.1)"
   ]
  },
  {
   "cell_type": "code",
   "execution_count": 57,
   "metadata": {},
   "outputs": [],
   "source": [
    "plt.figure(figsize=(20,4))\n",
    "n = 10\n",
    "\n",
    "for i in range(n):\n",
    "    ax = plt.subplot(2, n, i+1)\n",
    "    plt.imshow(x_fashion_test[i])\n",
    "    plt.gray()\n",
    "    plt.axis('off')\n",
    "\n",
    "    ax = plt.subplot(2, n , i+1+n)\n",
    "    plt.imshow(autoencoder.predict([x_fashion_test[i].reshape(-1,28,28,1)])[0])\n",
    "    plt.gray()\n",
    "    plt.axis('off')\n",
    "\n",
    "plt.show()"
   ]
  }
 ],
 "metadata": {
  "kernelspec": {
   "display_name": "Python 3",
   "language": "python",
   "name": "python3"
  },
  "language_info": {
   "codemirror_mode": {
    "name": "ipython",
    "version": 3
   },
   "file_extension": ".py",
   "mimetype": "text/x-python",
   "name": "python",
   "nbconvert_exporter": "python",
   "pygments_lexer": "ipython3",
   "version": "3.10.12"
  }
 },
 "nbformat": 4,
 "nbformat_minor": 2
}
